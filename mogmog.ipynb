{
 "cells": [
  {
   "cell_type": "code",
   "execution_count": 3,
   "id": "01404366",
   "metadata": {},
   "outputs": [
    {
     "name": "stderr",
     "output_type": "stream",
     "text": [
      "\u001b[32m\u001b[1m  Activating\u001b[22m\u001b[39m project at `~/.julia/dev/MOGMOG`\n"
     ]
    }
   ],
   "source": [
    "using Pkg\n",
    "Pkg.activate(\".\")"
   ]
  },
  {
   "cell_type": "code",
   "execution_count": 4,
   "id": "36312a2c",
   "metadata": {},
   "outputs": [],
   "source": [
    "using MOGMOG"
   ]
  },
  {
   "cell_type": "code",
   "execution_count": 1,
   "id": "048f75db",
   "metadata": {},
   "outputs": [
    {
     "ename": "UndefVarError",
     "evalue": "UndefVarError: `logpdf_MOG` not defined in `Main`\nSuggestion: check for spelling errors or missing imports.",
     "output_type": "error",
     "traceback": [
      "UndefVarError: `logpdf_MOG` not defined in `Main`\n",
      "Suggestion: check for spelling errors or missing imports.\n",
      "\n",
      "Stacktrace:\n",
      " [1] top-level scope\n",
      "   @ ~/.julia/dev/MOGMOG/jl_notebook_cell_df34fa98e69747e1a8f8a730347b8e2f_W2sZmlsZQ==.jl:1"
     ]
    }
   ],
   "source": [
    "logpdf_MOG()"
   ]
  },
  {
   "cell_type": "code",
   "execution_count": null,
   "id": "b5f1edd8",
   "metadata": {},
   "outputs": [],
   "source": [
    "using LinearAlgebra, Random\n",
    "\n",
    "function ran_rot_matrix()\n",
    "    ϕ = rand()*2π #x\n",
    "    θ = rand()*2π #y\n",
    "    ψ = rand()*2π #z\n",
    "    \n",
    "    R_x = [1 0 0; 0 cos(ϕ) -sin(ϕ); 0 sin(ϕ) cos(ϕ)]\n",
    "    R_y = [cos(θ) 0 sin(θ); 0 1 0; -sin(θ) 0 cos(θ)]\n",
    "    R_z = [cos(ψ) -sin(ψ) 0; sin(ψ) cos(ψ) 0; 0 0 1]     \n",
    "    \n",
    "    R = R_z * R_y * R_x\n",
    "    return R\n",
    "end\n",
    "\n",
    "function ran_translation()\n",
    "    T = [I(3) rand(3); zeros(3)' 1]\n",
    "    return T\n",
    "end"
   ]
  },
  {
   "cell_type": "markdown",
   "id": "b550b5cd",
   "metadata": {},
   "source": []
  }
 ],
 "metadata": {
  "kernelspec": {
   "display_name": "Julia 1.11.5",
   "language": "julia",
   "name": "julia-1.11"
  },
  "language_info": {
   "file_extension": ".jl",
   "mimetype": "application/julia",
   "name": "julia",
   "version": "1.11.5"
  }
 },
 "nbformat": 4,
 "nbformat_minor": 5
}
