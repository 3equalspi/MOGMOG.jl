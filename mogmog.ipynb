{
 "cells": [
  {
   "cell_type": "code",
   "execution_count": 3,
   "id": "01404366",
   "metadata": {},
   "outputs": [
    {
     "name": "stderr",
     "output_type": "stream",
     "text": [
      "\u001b[32m\u001b[1m  Activating\u001b[22m\u001b[39m project at `~/.julia/dev/MOGMOG`\n"
     ]
    }
   ],
   "source": [
    "using Pkg\n",
    "Pkg.activate(\".\")"
   ]
  },
  {
   "cell_type": "code",
   "execution_count": 4,
   "id": "36312a2c",
   "metadata": {},
   "outputs": [],
   "source": [
    "using MOGMOG"
   ]
  },
  {
   "cell_type": "code",
   "execution_count": 5,
   "id": "048f75db",
   "metadata": {},
   "outputs": [
    {
     "ename": "MethodError",
     "evalue": "MethodError: no method matching logpdf_MOG()\nThe function `logpdf_MOG` exists, but no method is defined for this combination of argument types.\n\nClosest candidates are:\n  logpdf_MOG(!Matched::Float64, !Matched::Vector{Float64}, !Matched::Vector{Float64}, !Matched::Vector{Float64})\n   @ MOGMOG ~/.julia/dev/MOGMOG/src/pdf.jl:3\n",
     "output_type": "error",
     "traceback": [
      "MethodError: no method matching logpdf_MOG()\n",
      "The function `logpdf_MOG` exists, but no method is defined for this combination of argument types.\n",
      "\n",
      "Closest candidates are:\n",
      "  logpdf_MOG(!Matched::Float64, !Matched::Vector{Float64}, !Matched::Vector{Float64}, !Matched::Vector{Float64})\n",
      "   @ MOGMOG ~/.julia/dev/MOGMOG/src/pdf.jl:3\n",
      "\n",
      "\n",
      "Stacktrace:\n",
      " [1] top-level scope\n",
      "   @ ~/.julia/dev/MOGMOG/jl_notebook_cell_df34fa98e69747e1a8f8a730347b8e2f_W2sZmlsZQ==.jl:1"
     ]
    }
   ],
   "source": [
    "logpdf_MOG()"
   ]
  }
 ],
 "metadata": {
  "kernelspec": {
   "display_name": "Julia 1.11.5",
   "language": "julia",
   "name": "julia-1.11"
  },
  "language_info": {
   "file_extension": ".jl",
   "mimetype": "application/julia",
   "name": "julia",
   "version": "1.11.5"
  }
 },
 "nbformat": 4,
 "nbformat_minor": 5
}
