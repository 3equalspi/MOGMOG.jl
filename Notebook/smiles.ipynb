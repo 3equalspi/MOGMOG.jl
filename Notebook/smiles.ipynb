{
 "cells": [
  {
   "cell_type": "code",
   "execution_count": 16,
   "metadata": {},
   "outputs": [
    {
     "name": "stderr",
     "output_type": "stream",
     "text": [
      "\u001b[32m\u001b[1m  Activating\u001b[22m\u001b[39m project at `~/.julia/dev/MOGMOG.jl`\n"
     ]
    }
   ],
   "source": [
    "using Pkg\n",
    "Pkg.activate(\".\")\n",
    "\n",
    "using MolecularGraph, MolecularGraph.Graphs"
   ]
  },
  {
   "cell_type": "code",
   "execution_count": 14,
   "metadata": {},
   "outputs": [
    {
     "data": {
      "text/plain": [
       "(SMILESMolGraph, SimpleMolGraph{Int64, SMILESAtom, SMILESBond}, AbstractMolGraph{Int64}, Graphs.AbstractGraph{Int64}, Any)"
      ]
     },
     "metadata": {},
     "output_type": "display_data"
    }
   ],
   "source": [
    "# Tryptophan\n",
    "supertypes(typeof(MolecularGraph.smilestomol(\"CC(C)(C)C\")))"
   ]
  },
  {
   "cell_type": "code",
   "execution_count": 18,
   "metadata": {},
   "outputs": [
    {
     "name": "stdout",
     "output_type": "stream",
     "text": [
      "Finished branch at 3 → jumping back to 2\n",
      "Finished branch at 4 → jumping back to 2\n",
      "Finished branch at 5 → jumping back to 2\n",
      "Finished branch at 2 → jumping back to 1\n"
     ]
    },
    {
     "data": {
      "text/plain": [
       "5-element Vector{Int64}:\n",
       " 1\n",
       " 1\n",
       " 2\n",
       " 2\n",
       " 2"
      ]
     },
     "metadata": {},
     "output_type": "display_data"
    }
   ],
   "source": [
    "function dfs_with_backtrack(g::MolGraph, start::Int) # dfs, depth first search - trädsöknings metod \n",
    "    n = nv(g) # antalet atomer i grafen sparas i n \n",
    "    visited = falses(n) # en vektor visisted som berättar vilka som är besökta och inte. alla får false till en början \n",
    "    parent  = fill(0, n)  # en vektor av längd n och alla värden är 0 till att börja med. sparar alltså varje atoms förälder\n",
    "    \n",
    "    function _dfs(u) # en inre funktion som djupsöker. Tar in u som argument \n",
    "        visited[u] = true # markera u som besökt \n",
    "        for v in neighbors(g, u) # kolla efter u grannar \n",
    "            if !visited[v] # om grannen ej är besökt \n",
    "                parent[v] = u # då har vi nått v genom u, dvs u är föräldern till v \n",
    "                _dfs(v) # gör samma för v och alla grannar i grenen \n",
    "                # when we return here, we've finished exploring the entire v‐branch\n",
    "                println(\"Finished branch at $v → jumping back to $u\")\n",
    "            end\n",
    "        end\n",
    "    end\n",
    "    \n",
    "    parent[start] = start   # root’s “parent” is itself\n",
    "    _dfs(start) # börja med den första \n",
    "    return parent # returnera föräldar listan \n",
    "end\n",
    "\n",
    "# Example usage:\n",
    "mg = MolecularGraph.smilestomol(\"CC(C)(C)C\") # Skapar en MolGraph från SMILES-strängen \"CC(C)(C)C\".\n",
    "parents = dfs_with_backtrack(mg, 1) # funktionen returnerar en lista och har tagit in molekylen i mg och startindex 1. \n"
   ]
  },
  {
   "cell_type": "code",
   "execution_count": null,
   "metadata": {},
   "outputs": [],
   "source": [
    "# Ändringar och tillägg:\n",
    "# - Infört två nya tokens ANCHOR_PUSH och ANCHOR_POP för att markera ankar-punkter vid DFS\n",
    "# - Lagt till anchor_stack för att spara koordinater vid push och pop\n",
    "# - Byggt atom_seq, coord_seq, atom_mask, coord_mask med ankar-tokens och dummy-koordinater (dvs utfyllnad för där push/pop är)\n",
    "# - Uppdaterad loss-funktion som maskerar bort ankar-tokens i både atom- och koordinat-förlust\n",
    "# - Behållt ursprunglig MOG-logpdf-stub och Flux-baserad atomtyp-förlust\n",
    "\n",
    "using Graphs, MoleculeGraph, Flux, Distributions\n",
    "\n",
    "# Definiera tokens för ankar-push och ankar-pop (lägg in i er atom_dict)\n",
    "const ANCHOR_PUSH = 1001    # Token-ID för push\n",
    "const ANCHOR_POP  = 1002    # Token-ID för pop\n",
    "\n",
    "# DFS-traversering med explicit push/pop\n",
    "function dfs_with_anchors(g::MolGraph, coords::Vector{SVector{3,Float32}}, start::Int)\n",
    "    n = nv(g)                                   # antalet atomer i grafen sparas i n \n",
    "    visited      = falses(n)                    # en vektor visisted som berättar vilka som är besökta och inte. alla får false till en början \n",
    "    atom_seq     = Int[]                        # Sekvens av atom-ID:n + ankar-tokens. Ska ej ta in dessa saker som argument eftersom vi gör en ny av allt \n",
    "    coord_seq    = Vector{SVector{3,Float32}}() # Koordinatsekvens, inkluderar dummy för anchors\n",
    "    atom_mask    = Bool[]                       # True för riktiga atomer, false för anchors\n",
    "    coord_mask   = Bool[]                       # True för giltiga displacements\n",
    "    anchor_stack = SVector{3,Float32}[]         # Sparar koordinater vid push\n",
    "\n",
    "    function _traverse(u) # Början på den rekursiva hjälpfunktionen _traverse, som tar den aktuella noden/atomen u som argument.\n",
    "        visited[u] = true # Markera nod u som besökt i vektorn visited, så vi inte återvänder hit igen.\n",
    "        # Lägg till aktuell atom\n",
    "        push!(atom_seq, u) \n",
    "        push!(coord_seq, coords[u])\n",
    "        push!(atom_mask, true)\n",
    "        push!(coord_mask, true)\n",
    "\n",
    "        # Hitta oexplorerade grannar\n",
    "        nbrs = [v for v in neighbors(g, u) if !visited[v]] # inte besökta grannar sparas i en lista \n",
    "        for v in nbrs # besök de ej besökta \n",
    "            if length(nbrs) >= 2 # Gör push om flera grenar. Om det skulle varit 1 finns det bara en väg framåt och är ej en förgrening\n",
    "                push!(anchor_stack, coords[u]) # Spara aktuell position på stacken\n",
    "                \n",
    "                # Lägg till push-token med dummy-/ankar-koordinat för alla dessa eftersom detta sker om det är en förgrening och då ska vi ha push \n",
    "                push!(atom_seq, ANCHOR_PUSH)\n",
    "                push!(coord_seq, coords[u])       # alternativt zeros(SVector{3,Float32})\n",
    "                push!(atom_mask, false)           # exkludera i atomförlust\n",
    "                push!(coord_mask, false)          # exkludera i koordinatförlust\n",
    "            end\n",
    "\n",
    "            _traverse(v) # Rekursivt gå in i grenen\n",
    "\n",
    "            # Efter att grenen är utforskad: pop\n",
    "            if length(nbrs) >= 2\n",
    "                anchor_pos = pop!(anchor_stack) # Hämta sparad position\n",
    "\n",
    "                # Lägg till pop-token med återställd ankar-koordinat\n",
    "                push!(atom_seq, ANCHOR_POP)\n",
    "                push!(coord_seq, anchor_pos)\n",
    "                push!(atom_mask, false)\n",
    "                push!(coord_mask, false)\n",
    "            end\n",
    "        end\n",
    "    end\n",
    "\n",
    "    _traverse(start) \n",
    "    return atom_seq, coord_seq, atom_mask, coord_mask\n",
    "end\n",
    "\n",
    "# Uppdaterad loss-funktion som ignorerar ankar-tokens\n",
    "function loss(model, atom_seq, coord_seq, atom_mask, coord_mask)\n",
    "    # Bygg indata för modellen\n",
    "    atom_ids = Flux.onehotbatch(atom_seq, 1:model.vocab_size)  # gör en matris av varje atom. Tar atomtoken (siffran för att beskriva atomen) och beskriver med en one hot vektor. Vi måste skriva om de diskreta token på detta sätt för modellen\n",
    "    pos      = reshape(hcat(coord_seq...), 3, 1, length(coord_seq))  # Ändrar lite format på koordinaterna [3, B=1, T]\n",
    "\n",
    "    μ, σ, logw, logits = model(pos, atom_ids) # skicka in atom id och pos och returnera de värden som behövs för att beräkna förlust \n",
    "\n",
    "    disp = pos[:, :, 2:end] .- pos[:, :, 1:end-1] # Beräkna förskjutningar mellan på varandra följande tokens. Detta är då inte strikt atom 5-4 utan följer den ordning vi skapat. Dvs en gren i taget. \n",
    "\n",
    "    # Maskera bort displacements vid push/pop\n",
    "    coord_mask_arr = reshape(coord_mask, 1, 1, length(coord_mask)) # reshapea\n",
    "    disp .= disp .* coord_mask_arr[:, :, 2:end] # vektormultiplikation så vi får 0 för de falska och inte ska räknas med sedan \n",
    "\n",
    "    # Koordinat-förlust via MOG\n",
    "    logp_xyz = logpdf_MOG(disp, μ, σ, logw) # Log-sannolikhet för dessa displacement enligt modellens Gauss-komponenter\n",
    "    loss_xyz = -sum(logp_xyz .* coord_mask_arr[:, :, 2:end]) / sum(coord_mask) # maska bort false och ta negativ medelvärde\n",
    "\n",
    "    # Atomtyp-förlust, ignorera anchors\n",
    "    target_atoms   = atom_seq[2:end]\n",
    "    atom_onehot    = Flux.onehotbatch(target_atoms, 1:size(logits,1))\n",
    "    atom_mask_arr  = reshape(atom_mask, 1, length(atom_mask))\n",
    "\n",
    "    masked_mean(p) = sum(p .* atom_mask_arr[:, 2:end]) / sum(atom_mask) # maska bort false och ta negativ medelvärde\n",
    "    loss_type      = Flux.logitcrossentropy(dropdims(logits, dims=2), atom_onehot; agg=masked_mean)\n",
    "\n",
    "    return loss_xyz + loss_type # slå ihop loss \n",
    "end\n",
    "\n",
    "# Stub för log-sannolikhet av Mixture of Gaussians\n",
    "typealias_VEC SVector{3,Float32}\n",
    "function logpdf_MOG(disp, μ, σ, logw)\n",
    "    return sum(logpdf.(MvNormal.(μ, σ), eachslice(disp, dims=3))) .+ logw\n",
    "end"
   ]
  }
 ],
 "metadata": {
  "kernelspec": {
   "display_name": "Julia 1.11.5",
   "language": "julia",
   "name": "julia-1.11"
  },
  "language_info": {
   "file_extension": ".jl",
   "mimetype": "application/julia",
   "name": "julia",
   "version": "1.11.5"
  }
 },
 "nbformat": 4,
 "nbformat_minor": 2
}
