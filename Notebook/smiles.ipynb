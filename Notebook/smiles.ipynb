{
 "cells": [
  {
   "cell_type": "code",
   "execution_count": 3,
   "metadata": {},
   "outputs": [
    {
     "name": "stderr",
     "output_type": "stream",
     "text": [
      "\u001b[32m\u001b[1m  Activating\u001b[22m\u001b[39m project at `~/.julia/dev/MOGMOG.jl`\n"
     ]
    }
   ],
   "source": [
    "using Pkg\n",
    "Pkg.activate(\"..\")\n",
    "\n",
    "using MolecularGraph, MolecularGraph.Graphs"
   ]
  },
  {
   "cell_type": "code",
   "execution_count": 14,
   "metadata": {},
   "outputs": [
    {
     "data": {
      "text/plain": [
       "(SMILESMolGraph, SimpleMolGraph{Int64, SMILESAtom, SMILESBond}, AbstractMolGraph{Int64}, Graphs.AbstractGraph{Int64}, Any)"
      ]
     },
     "metadata": {},
     "output_type": "display_data"
    }
   ],
   "source": [
    "# Tryptophan\n",
    "supertypes(typeof(MolecularGraph.smilestomol(\"CC(C)(C)C\")))"
   ]
  },
  {
   "cell_type": "code",
   "execution_count": 5,
   "metadata": {},
   "outputs": [
    {
     "name": "stdout",
     "output_type": "stream",
     "text": [
      "Finished branch at 3 → jumping back to 2\n",
      "Finished branch at 5 → jumping back to 4\n",
      "Finished branch at 4 → jumping back to 2\n",
      "Finished branch at 6 → jumping back to 2\n",
      "Finished branch at 2 → jumping back to 1\n"
     ]
    },
    {
     "data": {
      "text/plain": [
       "6-element Vector{Int64}:\n",
       " 1\n",
       " 1\n",
       " 2\n",
       " 2\n",
       " 4\n",
       " 2"
      ]
     },
     "metadata": {},
     "output_type": "display_data"
    }
   ],
   "source": [
    "function dfs_with_backtrack(g::MolGraph, start::Int) # dfs, depth first search - trädsöknings metod \n",
    "    n = nv(g) # antalet atomer i grafen sparas i n \n",
    "    visited = falses(n) # en vektor visisted som berättar vilka som är besökta och inte. alla får false till en början \n",
    "    parent  = fill(0, n)  # en vektor av längd n och alla värden är 0 till att börja med. sparar alltså varje atoms förälder\n",
    "    \n",
    "    function _dfs(u) # en inre funktion som djupsöker. Tar in u som argument \n",
    "        visited[u] = true # markera u som besökt \n",
    "        for v in neighbors(g, u) # kolla efter u grannar \n",
    "            if !visited[v] # om grannen ej är besökt \n",
    "                parent[v] = u # då har vi nått v genom u, dvs u är föräldern till v \n",
    "                _dfs(v) # gör samma för v och alla grannar i grenen \n",
    "                # when we return here, we've finished exploring the entire v‐branch\n",
    "                println(\"Finished branch at $v → jumping back to $u\")\n",
    "            end\n",
    "        end\n",
    "    end\n",
    "    \n",
    "    parent[start] = start   # root’s “parent” is itself\n",
    "    _dfs(start) # börja med den första \n",
    "    return parent # returnera föräldar listan \n",
    "end\n",
    "\n",
    "# Example usage:\n",
    "mg = MolecularGraph.smilestomol(\"CC(C)(CC)C\") # Skapar en MolGraph från SMILES-strängen \"CC(C)(C)C\".\n",
    "parents = dfs_with_backtrack(mg, 1) # funktionen returnerar en lista och har tagit in molekylen i mg och startindex 1. \n"
   ]
  },
  {
   "cell_type": "code",
   "execution_count": null,
   "metadata": {},
   "outputs": [],
   "source": [
    "# takes idealized smiles with only capital letters and parentheses\n",
    "# atom types dont technically matter.\n",
    "# we assume each atom type is just one character\n",
    " # function get_bond_pairs(clean_smiles::String,positions, cutoff=1.2)\n",
    "    # bond_pairs = Tuple{Int,Int}[]\n",
    "    # for i in 1:length(clean_smiles)-1:\n",
    "       #  for j in 1+1:length(clean_smiles):\n",
    "         #    distance = norm(positions[i] - positions[j])\n",
    "          #   if distance ≤ cutoff\n",
    "          #   push!(bond_pairs, (i, j))\n",
    "\n",
    "  #   end\n",
    "# end"
   ]
  },
  {
   "cell_type": "code",
   "execution_count": 1,
   "metadata": {},
   "outputs": [],
   "source": [
    "\n",
    "\n",
    "using Test"
   ]
  },
  {
   "cell_type": "code",
   "execution_count": 2,
   "metadata": {},
   "outputs": [
    {
     "data": {
      "text/plain": [
       "\"CC(C)(C)C\""
      ]
     },
     "metadata": {},
     "output_type": "display_data"
    }
   ],
   "source": [
    "# unwanted_characters = collect(\"0123456789.=#\\$:/\\\\\")\n",
    "unwanted_characters = collect(\"0123456789.=#\\$:/\\\\\")\n",
    "\n",
    "smiles = \"C3C1(C2.:#\\$)(C)1C\"\n",
    "clean_smiles = uppercase(replace(smiles, [s => \"\" for s in unwanted_characters]...))\n"
   ]
  },
  {
   "cell_type": "code",
   "execution_count": 20,
   "metadata": {},
   "outputs": [
    {
     "data": {
      "text/plain": [
       "get_bond_pairs (generic function with 1 method)"
      ]
     },
     "metadata": {},
     "output_type": "display_data"
    }
   ],
   "source": [
    "# försök att få ringar att fungera\n",
    "\n",
    "function get_bond_pairs(clean_smiles::String)\n",
    "    bond_pairs   = Tuple{Int,Int}[]   # resultatlista\n",
    "    stack        = Int[]              # för att spara var grenar startar\n",
    "    ring_indices = Dict{Char,Int}()   # för att hantera ring-siffror\n",
    "    last_atom    = 0                  # index på senaste atom\n",
    "    atom_idx     = 0                  # atom-räknare\n",
    "\n",
    "    for c in collect(clean_smiles)\n",
    "        if isuppercase(c)\n",
    "            atom_idx += 1\n",
    "            if last_atom != 0\n",
    "                push!(bond_pairs, (last_atom, atom_idx))\n",
    "            end\n",
    "            last_atom = atom_idx\n",
    "\n",
    "        elseif c == '('\n",
    "            push!(stack, last_atom)\n",
    "\n",
    "        elseif c == ')'\n",
    "            last_atom = pop!(stack)\n",
    "\n",
    "        elseif isdigit(c)\n",
    "            # första gång vi ser siffran → spara “ring-start”\n",
    "            if !haskey(ring_indices, c)\n",
    "                ring_indices[c] = last_atom\n",
    "            else\n",
    "                # andra gången → skapa ringbindningen\n",
    "                push!(bond_pairs, (last_atom, ring_indices[c]))\n",
    "                delete!(ring_indices, c)\n",
    "            end\n",
    "        end\n",
    "    end\n",
    "\n",
    "    return bond_pairs\n",
    "end\n"
   ]
  },
  {
   "cell_type": "code",
   "execution_count": 3,
   "metadata": {},
   "outputs": [
    {
     "data": {
      "text/plain": [
       "get_bond_pairs (generic function with 1 method)"
      ]
     },
     "metadata": {},
     "output_type": "display_data"
    }
   ],
   "source": [
    "# första variant \n",
    "# Vi utgår från att `clean_smiles` innehåller t.ex. \"CC(C)(CC)C\"\n",
    " function get_bond_pairs(clean_smiles::String)\n",
    "    bond_pairs = Tuple{Int,Int}[]   # resultatlista\n",
    "    stack      = Int[]              # för att spara uppgångspunkter vid '('\n",
    "    last_atom  = 0                  # index på senaste atom i “huvudkedjan”\n",
    "    atom_idx   = 0                  # räknare för atomer\n",
    "\n",
    "    for c in collect(clean_smiles)\n",
    "        if isuppercase(c)           # en atom (antar enkelteckens-atomer)\n",
    "            atom_idx += 1\n",
    "            if last_atom != 0\n",
    "                push!(bond_pairs, (last_atom, atom_idx))\n",
    "            end\n",
    "            last_atom = atom_idx\n",
    "        elseif c == '('\n",
    "            # sparar var vi “grenade” från\n",
    "            push!(stack, last_atom)\n",
    "        elseif c == ')'\n",
    "            # när grenen är slut, gå tillbaka till det sparade indexet\n",
    "            last_atom = pop!(stack)\n",
    "        else\n",
    "            # (om du hade andra tecken, ignoreras de här)\n",
    "        end\n",
    "    end\n",
    "\n",
    "    return bond_pairs\n",
    "end\n"
   ]
  },
  {
   "cell_type": "code",
   "execution_count": 5,
   "metadata": {},
   "outputs": [
    {
     "data": {
      "text/plain": [
       "\u001b[32m\u001b[1mTest Passed\u001b[22m\u001b[39m"
      ]
     },
     "metadata": {},
     "output_type": "display_data"
    }
   ],
   "source": [
    "@test get_bond_pairs(\"CC(C)(C)C\")             == [(1,2),(2,3),(2,4),(2,5)]\n",
    "@test get_bond_pairs(\"CC(C)(C)CC\")           == [(1,2),(2,3),(2,4),(2,5),(5,6)]\n",
    "@test get_bond_pairs(\"CC(C)(CC(C)C)C\")       == [(1,2),(2,3),(2,4),(4,5),(5,6),(5,7),(2,8)]\n",
    "\n",
    "# test passed "
   ]
  },
  {
   "cell_type": "code",
   "execution_count": 9,
   "metadata": {},
   "outputs": [],
   "source": [
    "using Test "
   ]
  },
  {
   "cell_type": "code",
   "execution_count": 10,
   "metadata": {},
   "outputs": [
    {
     "data": {
      "text/plain": [
       "\"CC(C)(C)C\""
      ]
     },
     "metadata": {},
     "output_type": "display_data"
    }
   ],
   "source": [
    "unwanted_characters = collect(\"0123456789.=#\\$:/\\\\\")\n",
    "\n",
    "smiles = \"C3C1(C2.:#\\$)(C)1C\"\n",
    "clean_smiles = uppercase(replace(smiles, [s => \"\" for s in unwanted_characters]...))"
   ]
  },
  {
   "cell_type": "code",
   "execution_count": 21,
   "metadata": {},
   "outputs": [
    {
     "data": {
      "text/plain": [
       "compute_climbs (generic function with 1 method)"
      ]
     },
     "metadata": {},
     "output_type": "display_data"
    }
   ],
   "source": [
    "# CLIMBS FUNCTION ####\n",
    "# If the atom is by itself and has no () = 0 \n",
    "# If there is one atom inside the ()= 1\n",
    "# If there are more than one inside the (), then the last atom will recieve a climb of the amount of atoms in that chain but the other ones will have zero (except if there are more sidechains in that sidechain).\n",
    "# The last atom in the molecule always get a climb 0 \n",
    "\n",
    "function compute_climbs(smiles::String)\n",
    "    # --- Steg 1: Tilldela varje atom ett grupp-ID och samla alla atom-index per grupp ---\n",
    "    stack = Int[]                           # håller öppna grupp-ID:n\n",
    "    atom_groups = Int[]                     # grupp-ID per atom (0 = ingen)\n",
    "    group_members = Dict{Int,Vector{Int}}() # atom-index per grupp\n",
    "    next_group_id = 1\n",
    "\n",
    "    for c in smiles\n",
    "        if c == '('\n",
    "            # starta ny grupp\n",
    "            group_members[next_group_id] = Int[]\n",
    "            push!(stack, next_group_id)\n",
    "            next_group_id += 1\n",
    "\n",
    "        elseif c == ')'\n",
    "            # stäng senaste öppna grupp\n",
    "            pop!(stack)\n",
    "\n",
    "        elseif isletter(c)\n",
    "            # bokstav = atom\n",
    "            gid = isempty(stack) ? 0 : stack[end]\n",
    "            push!(atom_groups, gid)\n",
    "            if gid != 0\n",
    "                push!(group_members[gid], length(atom_groups))\n",
    "            end\n",
    "        end\n",
    "    end\n",
    "\n",
    "    # --- Steg 2: Sätt climb endast på sista atom i varje grupp ---\n",
    "    n = length(atom_groups)\n",
    "    climbs = zeros(Int, n)\n",
    "    for (gid, members) in group_members\n",
    "        S = length(members)\n",
    "        last_idx = members[end]\n",
    "        climbs[last_idx] = S\n",
    "    end\n",
    "\n",
    "    return climbs\n",
    "end\n"
   ]
  },
  {
   "cell_type": "code",
   "execution_count": 25,
   "metadata": {},
   "outputs": [
    {
     "data": {
      "text/plain": [
       "\u001b[32m\u001b[1mTest Passed\u001b[22m\u001b[39m"
      ]
     },
     "metadata": {},
     "output_type": "display_data"
    }
   ],
   "source": [
    "@test compute_climbs(\"CC(C)(CC)C\")             == [0,0,1,0,2,0]\n",
    "@test compute_climbs(\"CC(C)(C)C\")             == [0,0,1,1,0]\n",
    "@test compute_climbs(\"CC(C)(CC(C)C)C\")       == [0,0,1,0,0,1,3,0]\n",
    "@test compute_climbs(\"CC(C(C)C)(CC(C)CC)C(C)C\")   == [0, 0, 0, 1, 2, 0, 0, 1, 0, 4, 0, 1, 0]\n",
    "\n",
    "# alla passed "
   ]
  },
  {
   "cell_type": "code",
   "execution_count": 26,
   "metadata": {},
   "outputs": [
    {
     "name": "stdout",
     "output_type": "stream",
     "text": [
      "\u001b[91m\u001b[1mError During Test\u001b[22m\u001b[39m at \u001b[39m\u001b[1m/Users/alicestenbeck/.julia/dev/MOGMOG.jl/Notebook/jl_notebook_cell_df34fa98e69747e1a8f8a730347b8e2f_X10sZmlsZQ==.jl:3\u001b[22m\n",
      "  Test threw exception\n",
      "  Expression: get_bond_pairs(\"CC(C)(C)C\") == [(1, 2), (2, 3), (2, 4), (2, 5)]\n",
      "  UndefVarError: `get_bond_pairs` not defined in `Main`\n",
      "  Suggestion: check for spelling errors or missing imports.\n",
      "  Stacktrace:\n",
      "   [1] \u001b[0m\u001b[1mmacro expansion\u001b[22m\n",
      "  \u001b[90m   @\u001b[39m \u001b[90m~/.julia/juliaup/julia-1.11.5+0.aarch64.apple.darwin14/share/julia/stdlib/v1.11/Test/src/\u001b[39m\u001b[90m\u001b[4mTest.jl:676\u001b[24m\u001b[39m\u001b[90m [inlined]\u001b[39m\n",
      "   [2] top-level scope\n",
      "  \u001b[90m   @\u001b[39m \u001b[90m~/.julia/dev/MOGMOG.jl/Notebook/\u001b[39m\u001b[90m\u001b[4mjl_notebook_cell_df34fa98e69747e1a8f8a730347b8e2f_X10sZmlsZQ==.jl:3\u001b[24m\u001b[39m\n"
     ]
    },
    {
     "ename": "Test.FallbackTestSetException",
     "evalue": "Test.FallbackTestSetException(\"There was an error during testing\")",
     "output_type": "error",
     "traceback": [
      "Test.FallbackTestSetException(\"There was an error during testing\")\n",
      "\n",
      "Stacktrace:\n",
      " [1] record(ts::Test.FallbackTestSet, t::Union{Test.Error, Test.Fail})\n",
      "   @ Test ~/.julia/juliaup/julia-1.11.5+0.aarch64.apple.darwin14/share/julia/stdlib/v1.11/Test/src/Test.jl:1026\n",
      " [2] do_test(result::Test.ExecutionResult, orig_expr::Any)\n",
      "   @ Test ~/.julia/juliaup/julia-1.11.5+0.aarch64.apple.darwin14/share/julia/stdlib/v1.11/Test/src/Test.jl:712\n",
      " [3] macro expansion\n",
      "   @ ~/.julia/juliaup/julia-1.11.5+0.aarch64.apple.darwin14/share/julia/stdlib/v1.11/Test/src/Test.jl:679 [inlined]\n",
      " [4] top-level scope\n",
      "   @ ~/.julia/dev/MOGMOG.jl/Notebook/jl_notebook_cell_df34fa98e69747e1a8f8a730347b8e2f_X10sZmlsZQ==.jl:3"
     ]
    }
   ],
   "source": []
  },
  {
   "cell_type": "code",
   "execution_count": null,
   "metadata": {},
   "outputs": [],
   "source": [
    "# Ändringar och tillägg:\n",
    "# - Infört två nya tokens ANCHOR_PUSH och ANCHOR_POP för att markera ankar-punkter vid DFS\n",
    "# - Lagt till anchor_stack för att spara koordinater vid push och pop\n",
    "# - Byggt atom_seq, coord_seq, atom_mask, coord_mask med ankar-tokens och dummy-koordinater (dvs utfyllnad för där push/pop är)\n",
    "# - Uppdaterad loss-funktion som maskerar bort ankar-tokens i både atom- och koordinat-förlust\n",
    "# - Behållt ursprunglig MOG-logpdf-stub och Flux-baserad atomtyp-förlust\n",
    "\n",
    "using Graphs, MoleculeGraph, Flux, Distributions\n",
    "\n",
    "# Definiera tokens för ankar-push och ankar-pop (lägg in i er atom_dict)\n",
    "const ANCHOR_PUSH = 1001    # Token-ID för push\n",
    "const ANCHOR_POP  = 1002    # Token-ID för pop\n",
    "\n",
    "# DFS-traversering med explicit push/pop\n",
    "function dfs_with_anchors(g::MolGraph, coords::Vector{SVector{3,Float32}}, start::Int)\n",
    "    n = nv(g)                                   # antalet atomer i grafen sparas i n \n",
    "    visited      = falses(n)                    # en vektor visisted som berättar vilka som är besökta och inte. alla får false till en början \n",
    "    atom_seq     = Int[]                        # Sekvens av atom-ID:n + ankar-tokens. Ska ej ta in dessa saker som argument eftersom vi gör en ny av allt \n",
    "    coord_seq    = Vector{SVector{3,Float32}}() # Koordinatsekvens, inkluderar dummy för anchors\n",
    "    atom_mask    = Bool[]                       # True för riktiga atomer, false för anchors\n",
    "    coord_mask   = Bool[]                       # True för giltiga displacements\n",
    "    anchor_stack = SVector{3,Float32}[]         # Sparar koordinater vid push\n",
    "\n",
    "    function _traverse(u) # Början på den rekursiva hjälpfunktionen _traverse, som tar den aktuella noden/atomen u som argument.\n",
    "        visited[u] = true # Markera nod u som besökt i vektorn visited, så vi inte återvänder hit igen.\n",
    "        # Lägg till aktuell atom\n",
    "        push!(atom_seq, u) \n",
    "        push!(coord_seq, coords[u])\n",
    "        push!(atom_mask, true)\n",
    "        push!(coord_mask, true)\n",
    "\n",
    "        # Hitta oexplorerade grannar\n",
    "        nbrs = [v for v in neighbors(g, u) if !visited[v]] # inte besökta grannar sparas i en lista \n",
    "        for v in nbrs # besök de ej besökta \n",
    "            if length(nbrs) >= 2 # Gör push om flera grenar. Om det skulle varit 1 finns det bara en väg framåt och är ej en förgrening\n",
    "                push!(anchor_stack, coords[u]) # Spara aktuell position på stacken\n",
    "                \n",
    "                # Lägg till push-token med dummy-/ankar-koordinat för alla dessa eftersom detta sker om det är en förgrening och då ska vi ha push \n",
    "                push!(atom_seq, ANCHOR_PUSH)\n",
    "                push!(coord_seq, coords[u])       # alternativt zeros(SVector{3,Float32})\n",
    "                push!(atom_mask, false)           # exkludera i atomförlust\n",
    "                push!(coord_mask, false)          # exkludera i koordinatförlust\n",
    "            end\n",
    "\n",
    "            _traverse(v) # Rekursivt gå in i grenen\n",
    "\n",
    "            # Efter att grenen är utforskad: pop\n",
    "            if length(nbrs) >= 2\n",
    "                anchor_pos = pop!(anchor_stack) # Hämta sparad position\n",
    "\n",
    "                # Lägg till pop-token med återställd ankar-koordinat\n",
    "                push!(atom_seq, ANCHOR_POP)\n",
    "                push!(coord_seq, anchor_pos)\n",
    "                push!(atom_mask, false)\n",
    "                push!(coord_mask, false)\n",
    "            end\n",
    "        end\n",
    "    end\n",
    "\n",
    "    _traverse(start) \n",
    "    return atom_seq, coord_seq, atom_mask, coord_mask\n",
    "end\n",
    "\n",
    "# Uppdaterad loss-funktion som ignorerar ankar-tokens\n",
    "function loss(model, atom_seq, coord_seq, atom_mask, coord_mask)\n",
    "    # Bygg indata för modellen\n",
    "    atom_ids = Flux.onehotbatch(atom_seq, 1:model.vocab_size)  # gör en matris av varje atom. Tar atomtoken (siffran för att beskriva atomen) och beskriver med en one hot vektor. Vi måste skriva om de diskreta token på detta sätt för modellen\n",
    "    pos      = reshape(hcat(coord_seq...), 3, 1, length(coord_seq))  # Ändrar lite format på koordinaterna [3, B=1, T]\n",
    "\n",
    "    μ, σ, logw, logits = model(pos, atom_ids) # skicka in atom id och pos och returnera de värden som behövs för att beräkna förlust \n",
    "\n",
    "    disp = pos[:, :, 2:end] .- pos[:, :, 1:end-1] # Beräkna förskjutningar mellan på varandra följande tokens. Detta är då inte strikt atom 5-4 utan följer den ordning vi skapat. Dvs en gren i taget. \n",
    "\n",
    "    # Maskera bort displacements vid push/pop\n",
    "    coord_mask_arr = reshape(coord_mask, 1, 1, length(coord_mask)) # reshapea\n",
    "    disp .= disp .* coord_mask_arr[:, :, 2:end] # vektormultiplikation så vi får 0 för de falska och inte ska räknas med sedan \n",
    "\n",
    "    # Koordinat-förlust via MOG\n",
    "    logp_xyz = logpdf_MOG(disp, μ, σ, logw) # Log-sannolikhet för dessa displacement enligt modellens Gauss-komponenter\n",
    "    loss_xyz = -sum(logp_xyz .* coord_mask_arr[:, :, 2:end]) / sum(coord_mask) # maska bort false och ta negativ medelvärde\n",
    "\n",
    "    # Atomtyp-förlust, ignorera anchors\n",
    "    target_atoms   = atom_seq[2:end]\n",
    "    atom_onehot    = Flux.onehotbatch(target_atoms, 1:size(logits,1))\n",
    "    atom_mask_arr  = reshape(atom_mask, 1, length(atom_mask))\n",
    "\n",
    "    masked_mean(p) = sum(p .* atom_mask_arr[:, 2:end]) / sum(atom_mask) # maska bort false och ta negativ medelvärde\n",
    "    loss_type      = Flux.logitcrossentropy(dropdims(logits, dims=2), atom_onehot; agg=masked_mean)\n",
    "\n",
    "    return loss_xyz + loss_type # slå ihop loss \n",
    "end\n",
    "\n",
    "# Stub för log-sannolikhet av Mixture of Gaussians\n",
    "typealias_VEC SVector{3,Float32}\n",
    "function logpdf_MOG(disp, μ, σ, logw)\n",
    "    return sum(logpdf.(MvNormal.(μ, σ), eachslice(disp, dims=3))) .+ logw\n",
    "end"
   ]
  },
  {
   "cell_type": "code",
   "execution_count": null,
   "metadata": {},
   "outputs": [],
   "source": [
    "function loss(model, atom_seq, coord_seq, climb_seq, atom_mask, coord_mask)\n",
    "    # === Format model inputs ===\n",
    "    atom_ids = Flux.onehotbatch(atom_seq, 1:model.vocab_size)\n",
    "    pos      = reshape(hcat(coord_seq...), 3, 1, length(coord_seq))  # [3, B=1, T]\n",
    "\n",
    "    # === Forward pass ===\n",
    "    μ, σ, logw, logits, climb_logits = model(pos, atom_ids)\n",
    "\n",
    "    # === Coordinate loss (Mixture of Gaussians) ===\n",
    "    disp = pos[:, :, 2:end] .- pos[:, :, 1:end-1]\n",
    "    coord_mask_arr = reshape(coord_mask, 1, 1, length(coord_mask))\n",
    "    disp .= disp .* coord_mask_arr[:, :, 2:end]\n",
    "\n",
    "    logp_xyz = logpdf_MOG(disp, μ, σ, logw)\n",
    "    loss_xyz = -sum(logp_xyz .* coord_mask_arr[:, :, 2:end]) / sum(coord_mask)\n",
    "\n",
    "    # === Atom type loss ===\n",
    "    target_atoms   = atom_seq[2:end]\n",
    "    atom_onehot    = Flux.onehotbatch(target_atoms, 1:size(logits,1))\n",
    "    atom_mask_arr  = reshape(atom_mask, 1, length(atom_mask))\n",
    "    masked_mean(p) = sum(p .* atom_mask_arr[:, 2:end]) / sum(atom_mask)\n",
    "    loss_type      = Flux.logitcrossentropy(dropdims(logits, dims=2), atom_onehot; agg=masked_mean)\n",
    "\n",
    "    # === Climb prediction loss ===\n",
    "    target_climbs = climb_seq[2:end]\n",
    "    climb_onehot  = Flux.onehotbatch(target_climbs, 0:size(climb_logits, 1)-1)\n",
    "    loss_climb    = Flux.logitcrossentropy(dropdims(climb_logits, dims=2), climb_onehot; agg=masked_mean)\n",
    "\n",
    "    # === Total loss ===\n",
    "    return loss_xyz + loss_type + loss_climb\n",
    "end\n"
   ]
  }
 ],
 "metadata": {
  "kernelspec": {
   "display_name": "Julia 1.11.5",
   "language": "julia",
   "name": "julia-1.11"
  },
  "language_info": {
   "file_extension": ".jl",
   "mimetype": "application/julia",
   "name": "julia",
   "version": "1.11.5"
  }
 },
 "nbformat": 4,
 "nbformat_minor": 2
}
